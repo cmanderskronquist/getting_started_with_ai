{
  "nbformat": 4,
  "nbformat_minor": 0,
  "metadata": {
    "colab": {
      "provenance": [],
      "gpuType": "T4",
      "toc_visible": true,
      "include_colab_link": true
    },
    "kernelspec": {
      "name": "python3",
      "display_name": "Python 3"
    },
    "language_info": {
      "name": "python"
    },
    "accelerator": "GPU"
  },
  "cells": [
    {
      "cell_type": "markdown",
      "metadata": {
        "id": "view-in-github",
        "colab_type": "text"
      },
      "source": [
        "<a href=\"https://colab.research.google.com/github/cmanderskronquist/getting_started_with_ai/blob/main/colab/example_notebook_for_google_TTS_simple.ipynb\" target=\"_parent\"><img src=\"https://colab.research.google.com/assets/colab-badge.svg\" alt=\"Open In Colab\"/></a>"
      ]
    },
    {
      "cell_type": "markdown",
      "source": [
        "This is a test of pulling from github to Colab\n",
        "\n",
        "WARNING\n",
        "Saving this from Colab to Github will overwrite the file no questions asked. No merge option."
      ],
      "metadata": {
        "id": "ezTIGb97Mvv0"
      }
    },
    {
      "cell_type": "markdown",
      "source": [
        "# Install needed dependencies"
      ],
      "metadata": {
        "id": "ewym1o6dliDN"
      }
    },
    {
      "cell_type": "markdown",
      "source": [
        "Run this to clone the repo"
      ],
      "metadata": {
        "id": "BZ3afNEMRMuh"
      }
    },
    {
      "cell_type": "code",
      "source": [
        "![ ! -d \"getting_started_with_ai\" ] && git clone https://github.com/cmanderskronquist/getting_started_with_ai/"
      ],
      "metadata": {
        "id": "jKErq4ReMv9d",
        "outputId": "4875bed1-c5ab-493f-9a68-53510ceebeb4",
        "colab": {
          "base_uri": "https://localhost:8080/"
        }
      },
      "execution_count": 2,
      "outputs": [
        {
          "output_type": "stream",
          "name": "stdout",
          "text": [
            "Cloning into 'getting_started_with_ai'...\n",
            "remote: Enumerating objects: 169, done.\u001b[K\n",
            "remote: Counting objects: 100% (169/169), done.\u001b[K\n",
            "remote: Compressing objects: 100% (125/125), done.\u001b[K\n",
            "remote: Total 169 (delta 79), reused 104 (delta 38), pack-reused 0 (from 0)\u001b[K\n",
            "Receiving objects: 100% (169/169), 189.78 KiB | 7.03 MiB/s, done.\n",
            "Resolving deltas: 100% (79/79), done.\n"
          ]
        }
      ]
    },
    {
      "cell_type": "markdown",
      "source": [
        "Run this to refresh the clone."
      ],
      "metadata": {
        "id": "wegOOmATRLCE"
      }
    },
    {
      "cell_type": "code",
      "source": [
        "!cd getting_started_with_ai/ && git pull"
      ],
      "metadata": {
        "colab": {
          "base_uri": "https://localhost:8080/"
        },
        "id": "I7g9EOQaOiPn",
        "outputId": "954c79ec-7016-4a51-847d-f1fc1947274f"
      },
      "execution_count": 11,
      "outputs": [
        {
          "output_type": "stream",
          "name": "stdout",
          "text": [
            "remote: Enumerating objects: 9, done.\u001b[K\n",
            "remote: Counting objects:  11% (1/9)\u001b[K\rremote: Counting objects:  22% (2/9)\u001b[K\rremote: Counting objects:  33% (3/9)\u001b[K\rremote: Counting objects:  44% (4/9)\u001b[K\rremote: Counting objects:  55% (5/9)\u001b[K\rremote: Counting objects:  66% (6/9)\u001b[K\rremote: Counting objects:  77% (7/9)\u001b[K\rremote: Counting objects:  88% (8/9)\u001b[K\rremote: Counting objects: 100% (9/9)\u001b[K\rremote: Counting objects: 100% (9/9), done.\u001b[K\n",
            "remote: Compressing objects:  50% (1/2)\u001b[K\rremote: Compressing objects: 100% (2/2)\u001b[K\rremote: Compressing objects: 100% (2/2), done.\u001b[K\n",
            "remote: Total 5 (delta 2), reused 5 (delta 2), pack-reused 0 (from 0)\u001b[K\n",
            "Unpacking objects:  20% (1/5)\rUnpacking objects:  40% (2/5)\rUnpacking objects:  60% (3/5)\rUnpacking objects:  80% (4/5)\rUnpacking objects: 100% (5/5)\rUnpacking objects: 100% (5/5), 523 bytes | 523.00 KiB/s, done.\n",
            "From https://github.com/cmanderskronquist/getting_started_with_ai\n",
            "   e52873e..48e29d3  main       -> origin/main\n",
            "Updating e52873e..48e29d3\n",
            "Fast-forward\n",
            " colab/main.py          | 8 \u001b[32m+++++++\u001b[m\u001b[31m-\u001b[m\n",
            " colab/requirements.txt | 3 \u001b[32m++\u001b[m\u001b[31m-\u001b[m\n",
            " 2 files changed, 9 insertions(+), 2 deletions(-)\n"
          ]
        }
      ]
    },
    {
      "cell_type": "markdown",
      "source": [
        "Look for requirements.txt in the project.\n",
        "\n",
        "WARNING this looks for as specific file, not generic."
      ],
      "metadata": {
        "id": "-WQfrPkdlu6i"
      }
    },
    {
      "cell_type": "code",
      "source": [
        "!pip install -r getting_started_with_ai/colab/requirements.txt"
      ],
      "metadata": {
        "id": "YKfJzq8hluS6",
        "outputId": "3d83a405-5e4f-4f9a-a07d-644a5210a936",
        "colab": {
          "base_uri": "https://localhost:8080/"
        }
      },
      "execution_count": 12,
      "outputs": [
        {
          "output_type": "stream",
          "name": "stdout",
          "text": [
            "Requirement already satisfied: TTS in /usr/local/lib/python3.11/dist-packages (from -r getting_started_with_ai/colab/requirements.txt (line 1)) (0.22.0)\n",
            "Collecting gTTS (from -r getting_started_with_ai/colab/requirements.txt (line 2))\n",
            "  Downloading gTTS-2.5.4-py3-none-any.whl.metadata (4.1 kB)\n",
            "Requirement already satisfied: cython>=0.29.30 in /usr/local/lib/python3.11/dist-packages (from TTS->-r getting_started_with_ai/colab/requirements.txt (line 1)) (3.0.12)\n",
            "Requirement already satisfied: scipy>=1.11.2 in /usr/local/lib/python3.11/dist-packages (from TTS->-r getting_started_with_ai/colab/requirements.txt (line 1)) (1.14.1)\n",
            "Requirement already satisfied: torch>=2.1 in /usr/local/lib/python3.11/dist-packages (from TTS->-r getting_started_with_ai/colab/requirements.txt (line 1)) (2.5.1+cu124)\n",
            "Requirement already satisfied: torchaudio in /usr/local/lib/python3.11/dist-packages (from TTS->-r getting_started_with_ai/colab/requirements.txt (line 1)) (2.5.1+cu124)\n",
            "Requirement already satisfied: soundfile>=0.12.0 in /usr/local/lib/python3.11/dist-packages (from TTS->-r getting_started_with_ai/colab/requirements.txt (line 1)) (0.13.1)\n",
            "Requirement already satisfied: librosa>=0.10.0 in /usr/local/lib/python3.11/dist-packages (from TTS->-r getting_started_with_ai/colab/requirements.txt (line 1)) (0.10.2.post1)\n",
            "Requirement already satisfied: scikit-learn>=1.3.0 in /usr/local/lib/python3.11/dist-packages (from TTS->-r getting_started_with_ai/colab/requirements.txt (line 1)) (1.6.1)\n",
            "Requirement already satisfied: inflect>=5.6.0 in /usr/local/lib/python3.11/dist-packages (from TTS->-r getting_started_with_ai/colab/requirements.txt (line 1)) (7.5.0)\n",
            "Requirement already satisfied: tqdm>=4.64.1 in /usr/local/lib/python3.11/dist-packages (from TTS->-r getting_started_with_ai/colab/requirements.txt (line 1)) (4.67.1)\n",
            "Requirement already satisfied: anyascii>=0.3.0 in /usr/local/lib/python3.11/dist-packages (from TTS->-r getting_started_with_ai/colab/requirements.txt (line 1)) (0.3.2)\n",
            "Requirement already satisfied: pyyaml>=6.0 in /usr/local/lib/python3.11/dist-packages (from TTS->-r getting_started_with_ai/colab/requirements.txt (line 1)) (6.0.2)\n",
            "Requirement already satisfied: fsspec>=2023.6.0 in /usr/local/lib/python3.11/dist-packages (from TTS->-r getting_started_with_ai/colab/requirements.txt (line 1)) (2024.10.0)\n",
            "Requirement already satisfied: aiohttp>=3.8.1 in /usr/local/lib/python3.11/dist-packages (from TTS->-r getting_started_with_ai/colab/requirements.txt (line 1)) (3.11.13)\n",
            "Requirement already satisfied: packaging>=23.1 in /usr/local/lib/python3.11/dist-packages (from TTS->-r getting_started_with_ai/colab/requirements.txt (line 1)) (24.2)\n",
            "Requirement already satisfied: flask>=2.0.1 in /usr/local/lib/python3.11/dist-packages (from TTS->-r getting_started_with_ai/colab/requirements.txt (line 1)) (3.1.0)\n",
            "Requirement already satisfied: pysbd>=0.3.4 in /usr/local/lib/python3.11/dist-packages (from TTS->-r getting_started_with_ai/colab/requirements.txt (line 1)) (0.3.4)\n",
            "Requirement already satisfied: umap-learn>=0.5.1 in /usr/local/lib/python3.11/dist-packages (from TTS->-r getting_started_with_ai/colab/requirements.txt (line 1)) (0.5.7)\n",
            "Requirement already satisfied: pandas<2.0,>=1.4 in /usr/local/lib/python3.11/dist-packages (from TTS->-r getting_started_with_ai/colab/requirements.txt (line 1)) (1.5.3)\n",
            "Requirement already satisfied: matplotlib>=3.7.0 in /usr/local/lib/python3.11/dist-packages (from TTS->-r getting_started_with_ai/colab/requirements.txt (line 1)) (3.10.0)\n",
            "Requirement already satisfied: trainer>=0.0.32 in /usr/local/lib/python3.11/dist-packages (from TTS->-r getting_started_with_ai/colab/requirements.txt (line 1)) (0.0.36)\n",
            "Requirement already satisfied: coqpit>=0.0.16 in /usr/local/lib/python3.11/dist-packages (from TTS->-r getting_started_with_ai/colab/requirements.txt (line 1)) (0.0.17)\n",
            "Requirement already satisfied: jieba in /usr/local/lib/python3.11/dist-packages (from TTS->-r getting_started_with_ai/colab/requirements.txt (line 1)) (0.42.1)\n",
            "Requirement already satisfied: pypinyin in /usr/local/lib/python3.11/dist-packages (from TTS->-r getting_started_with_ai/colab/requirements.txt (line 1)) (0.53.0)\n",
            "Requirement already satisfied: hangul-romanize in /usr/local/lib/python3.11/dist-packages (from TTS->-r getting_started_with_ai/colab/requirements.txt (line 1)) (0.1.0)\n",
            "Requirement already satisfied: gruut==2.2.3 in /usr/local/lib/python3.11/dist-packages (from gruut[de,es,fr]==2.2.3->TTS->-r getting_started_with_ai/colab/requirements.txt (line 1)) (2.2.3)\n",
            "Requirement already satisfied: jamo in /usr/local/lib/python3.11/dist-packages (from TTS->-r getting_started_with_ai/colab/requirements.txt (line 1)) (0.4.1)\n",
            "Requirement already satisfied: nltk in /usr/local/lib/python3.11/dist-packages (from TTS->-r getting_started_with_ai/colab/requirements.txt (line 1)) (3.9.1)\n",
            "Requirement already satisfied: g2pkk>=0.1.1 in /usr/local/lib/python3.11/dist-packages (from TTS->-r getting_started_with_ai/colab/requirements.txt (line 1)) (0.1.2)\n",
            "Requirement already satisfied: bangla in /usr/local/lib/python3.11/dist-packages (from TTS->-r getting_started_with_ai/colab/requirements.txt (line 1)) (0.0.2)\n",
            "Requirement already satisfied: bnnumerizer in /usr/local/lib/python3.11/dist-packages (from TTS->-r getting_started_with_ai/colab/requirements.txt (line 1)) (0.0.2)\n",
            "Requirement already satisfied: bnunicodenormalizer in /usr/local/lib/python3.11/dist-packages (from TTS->-r getting_started_with_ai/colab/requirements.txt (line 1)) (0.1.7)\n",
            "Requirement already satisfied: einops>=0.6.0 in /usr/local/lib/python3.11/dist-packages (from TTS->-r getting_started_with_ai/colab/requirements.txt (line 1)) (0.8.1)\n",
            "Requirement already satisfied: transformers>=4.33.0 in /usr/local/lib/python3.11/dist-packages (from TTS->-r getting_started_with_ai/colab/requirements.txt (line 1)) (4.48.3)\n",
            "Requirement already satisfied: encodec>=0.1.1 in /usr/local/lib/python3.11/dist-packages (from TTS->-r getting_started_with_ai/colab/requirements.txt (line 1)) (0.1.1)\n",
            "Requirement already satisfied: unidecode>=1.3.2 in /usr/local/lib/python3.11/dist-packages (from TTS->-r getting_started_with_ai/colab/requirements.txt (line 1)) (1.3.8)\n",
            "Requirement already satisfied: num2words in /usr/local/lib/python3.11/dist-packages (from TTS->-r getting_started_with_ai/colab/requirements.txt (line 1)) (0.5.14)\n",
            "Requirement already satisfied: spacy>=3 in /usr/local/lib/python3.11/dist-packages (from spacy[ja]>=3->TTS->-r getting_started_with_ai/colab/requirements.txt (line 1)) (3.7.5)\n",
            "Requirement already satisfied: numpy>=1.24.3 in /usr/local/lib/python3.11/dist-packages (from TTS->-r getting_started_with_ai/colab/requirements.txt (line 1)) (1.26.4)\n",
            "Requirement already satisfied: numba>=0.57.0 in /usr/local/lib/python3.11/dist-packages (from TTS->-r getting_started_with_ai/colab/requirements.txt (line 1)) (0.60.0)\n",
            "Requirement already satisfied: Babel<3.0.0,>=2.8.0 in /usr/local/lib/python3.11/dist-packages (from gruut==2.2.3->gruut[de,es,fr]==2.2.3->TTS->-r getting_started_with_ai/colab/requirements.txt (line 1)) (2.17.0)\n",
            "Requirement already satisfied: dateparser~=1.1.0 in /usr/local/lib/python3.11/dist-packages (from gruut==2.2.3->gruut[de,es,fr]==2.2.3->TTS->-r getting_started_with_ai/colab/requirements.txt (line 1)) (1.1.8)\n",
            "Requirement already satisfied: gruut-ipa<1.0,>=0.12.0 in /usr/local/lib/python3.11/dist-packages (from gruut==2.2.3->gruut[de,es,fr]==2.2.3->TTS->-r getting_started_with_ai/colab/requirements.txt (line 1)) (0.13.0)\n",
            "Requirement already satisfied: gruut-lang-en~=2.0.0 in /usr/local/lib/python3.11/dist-packages (from gruut==2.2.3->gruut[de,es,fr]==2.2.3->TTS->-r getting_started_with_ai/colab/requirements.txt (line 1)) (2.0.1)\n",
            "Requirement already satisfied: jsonlines~=1.2.0 in /usr/local/lib/python3.11/dist-packages (from gruut==2.2.3->gruut[de,es,fr]==2.2.3->TTS->-r getting_started_with_ai/colab/requirements.txt (line 1)) (1.2.0)\n",
            "Requirement already satisfied: networkx<3.0.0,>=2.5.0 in /usr/local/lib/python3.11/dist-packages (from gruut==2.2.3->gruut[de,es,fr]==2.2.3->TTS->-r getting_started_with_ai/colab/requirements.txt (line 1)) (2.8.8)\n",
            "Requirement already satisfied: python-crfsuite~=0.9.7 in /usr/local/lib/python3.11/dist-packages (from gruut==2.2.3->gruut[de,es,fr]==2.2.3->TTS->-r getting_started_with_ai/colab/requirements.txt (line 1)) (0.9.11)\n",
            "Requirement already satisfied: gruut-lang-de~=2.0.0 in /usr/local/lib/python3.11/dist-packages (from gruut[de,es,fr]==2.2.3->TTS->-r getting_started_with_ai/colab/requirements.txt (line 1)) (2.0.1)\n",
            "Requirement already satisfied: gruut-lang-es~=2.0.0 in /usr/local/lib/python3.11/dist-packages (from gruut[de,es,fr]==2.2.3->TTS->-r getting_started_with_ai/colab/requirements.txt (line 1)) (2.0.1)\n",
            "Requirement already satisfied: gruut-lang-fr~=2.0.0 in /usr/local/lib/python3.11/dist-packages (from gruut[de,es,fr]==2.2.3->TTS->-r getting_started_with_ai/colab/requirements.txt (line 1)) (2.0.2)\n",
            "Requirement already satisfied: requests<3,>=2.27 in /usr/local/lib/python3.11/dist-packages (from gTTS->-r getting_started_with_ai/colab/requirements.txt (line 2)) (2.32.3)\n",
            "Requirement already satisfied: click<8.2,>=7.1 in /usr/local/lib/python3.11/dist-packages (from gTTS->-r getting_started_with_ai/colab/requirements.txt (line 2)) (8.1.8)\n",
            "Requirement already satisfied: aiohappyeyeballs>=2.3.0 in /usr/local/lib/python3.11/dist-packages (from aiohttp>=3.8.1->TTS->-r getting_started_with_ai/colab/requirements.txt (line 1)) (2.5.0)\n",
            "Requirement already satisfied: aiosignal>=1.1.2 in /usr/local/lib/python3.11/dist-packages (from aiohttp>=3.8.1->TTS->-r getting_started_with_ai/colab/requirements.txt (line 1)) (1.3.2)\n",
            "Requirement already satisfied: attrs>=17.3.0 in /usr/local/lib/python3.11/dist-packages (from aiohttp>=3.8.1->TTS->-r getting_started_with_ai/colab/requirements.txt (line 1)) (25.1.0)\n",
            "Requirement already satisfied: frozenlist>=1.1.1 in /usr/local/lib/python3.11/dist-packages (from aiohttp>=3.8.1->TTS->-r getting_started_with_ai/colab/requirements.txt (line 1)) (1.5.0)\n",
            "Requirement already satisfied: multidict<7.0,>=4.5 in /usr/local/lib/python3.11/dist-packages (from aiohttp>=3.8.1->TTS->-r getting_started_with_ai/colab/requirements.txt (line 1)) (6.1.0)\n",
            "Requirement already satisfied: propcache>=0.2.0 in /usr/local/lib/python3.11/dist-packages (from aiohttp>=3.8.1->TTS->-r getting_started_with_ai/colab/requirements.txt (line 1)) (0.3.0)\n",
            "Requirement already satisfied: yarl<2.0,>=1.17.0 in /usr/local/lib/python3.11/dist-packages (from aiohttp>=3.8.1->TTS->-r getting_started_with_ai/colab/requirements.txt (line 1)) (1.18.3)\n",
            "Requirement already satisfied: Werkzeug>=3.1 in /usr/local/lib/python3.11/dist-packages (from flask>=2.0.1->TTS->-r getting_started_with_ai/colab/requirements.txt (line 1)) (3.1.3)\n",
            "Requirement already satisfied: Jinja2>=3.1.2 in /usr/local/lib/python3.11/dist-packages (from flask>=2.0.1->TTS->-r getting_started_with_ai/colab/requirements.txt (line 1)) (3.1.6)\n",
            "Requirement already satisfied: itsdangerous>=2.2 in /usr/local/lib/python3.11/dist-packages (from flask>=2.0.1->TTS->-r getting_started_with_ai/colab/requirements.txt (line 1)) (2.2.0)\n",
            "Requirement already satisfied: blinker>=1.9 in /usr/local/lib/python3.11/dist-packages (from flask>=2.0.1->TTS->-r getting_started_with_ai/colab/requirements.txt (line 1)) (1.9.0)\n",
            "Requirement already satisfied: more_itertools>=8.5.0 in /usr/local/lib/python3.11/dist-packages (from inflect>=5.6.0->TTS->-r getting_started_with_ai/colab/requirements.txt (line 1)) (10.6.0)\n",
            "Requirement already satisfied: typeguard>=4.0.1 in /usr/local/lib/python3.11/dist-packages (from inflect>=5.6.0->TTS->-r getting_started_with_ai/colab/requirements.txt (line 1)) (4.4.2)\n",
            "Requirement already satisfied: audioread>=2.1.9 in /usr/local/lib/python3.11/dist-packages (from librosa>=0.10.0->TTS->-r getting_started_with_ai/colab/requirements.txt (line 1)) (3.0.1)\n",
            "Requirement already satisfied: joblib>=0.14 in /usr/local/lib/python3.11/dist-packages (from librosa>=0.10.0->TTS->-r getting_started_with_ai/colab/requirements.txt (line 1)) (1.4.2)\n",
            "Requirement already satisfied: decorator>=4.3.0 in /usr/local/lib/python3.11/dist-packages (from librosa>=0.10.0->TTS->-r getting_started_with_ai/colab/requirements.txt (line 1)) (4.4.2)\n",
            "Requirement already satisfied: pooch>=1.1 in /usr/local/lib/python3.11/dist-packages (from librosa>=0.10.0->TTS->-r getting_started_with_ai/colab/requirements.txt (line 1)) (1.8.2)\n",
            "Requirement already satisfied: soxr>=0.3.2 in /usr/local/lib/python3.11/dist-packages (from librosa>=0.10.0->TTS->-r getting_started_with_ai/colab/requirements.txt (line 1)) (0.5.0.post1)\n",
            "Requirement already satisfied: typing-extensions>=4.1.1 in /usr/local/lib/python3.11/dist-packages (from librosa>=0.10.0->TTS->-r getting_started_with_ai/colab/requirements.txt (line 1)) (4.12.2)\n",
            "Requirement already satisfied: lazy-loader>=0.1 in /usr/local/lib/python3.11/dist-packages (from librosa>=0.10.0->TTS->-r getting_started_with_ai/colab/requirements.txt (line 1)) (0.4)\n",
            "Requirement already satisfied: msgpack>=1.0 in /usr/local/lib/python3.11/dist-packages (from librosa>=0.10.0->TTS->-r getting_started_with_ai/colab/requirements.txt (line 1)) (1.1.0)\n",
            "Requirement already satisfied: contourpy>=1.0.1 in /usr/local/lib/python3.11/dist-packages (from matplotlib>=3.7.0->TTS->-r getting_started_with_ai/colab/requirements.txt (line 1)) (1.3.1)\n",
            "Requirement already satisfied: cycler>=0.10 in /usr/local/lib/python3.11/dist-packages (from matplotlib>=3.7.0->TTS->-r getting_started_with_ai/colab/requirements.txt (line 1)) (0.12.1)\n",
            "Requirement already satisfied: fonttools>=4.22.0 in /usr/local/lib/python3.11/dist-packages (from matplotlib>=3.7.0->TTS->-r getting_started_with_ai/colab/requirements.txt (line 1)) (4.56.0)\n",
            "Requirement already satisfied: kiwisolver>=1.3.1 in /usr/local/lib/python3.11/dist-packages (from matplotlib>=3.7.0->TTS->-r getting_started_with_ai/colab/requirements.txt (line 1)) (1.4.8)\n",
            "Requirement already satisfied: pillow>=8 in /usr/local/lib/python3.11/dist-packages (from matplotlib>=3.7.0->TTS->-r getting_started_with_ai/colab/requirements.txt (line 1)) (11.1.0)\n",
            "Requirement already satisfied: pyparsing>=2.3.1 in /usr/local/lib/python3.11/dist-packages (from matplotlib>=3.7.0->TTS->-r getting_started_with_ai/colab/requirements.txt (line 1)) (3.2.1)\n",
            "Requirement already satisfied: python-dateutil>=2.7 in /usr/local/lib/python3.11/dist-packages (from matplotlib>=3.7.0->TTS->-r getting_started_with_ai/colab/requirements.txt (line 1)) (2.8.2)\n",
            "Requirement already satisfied: docopt>=0.6.2 in /usr/local/lib/python3.11/dist-packages (from num2words->TTS->-r getting_started_with_ai/colab/requirements.txt (line 1)) (0.6.2)\n",
            "Requirement already satisfied: llvmlite<0.44,>=0.43.0dev0 in /usr/local/lib/python3.11/dist-packages (from numba>=0.57.0->TTS->-r getting_started_with_ai/colab/requirements.txt (line 1)) (0.43.0)\n",
            "Requirement already satisfied: pytz>=2020.1 in /usr/local/lib/python3.11/dist-packages (from pandas<2.0,>=1.4->TTS->-r getting_started_with_ai/colab/requirements.txt (line 1)) (2025.1)\n",
            "Requirement already satisfied: charset-normalizer<4,>=2 in /usr/local/lib/python3.11/dist-packages (from requests<3,>=2.27->gTTS->-r getting_started_with_ai/colab/requirements.txt (line 2)) (3.4.1)\n",
            "Requirement already satisfied: idna<4,>=2.5 in /usr/local/lib/python3.11/dist-packages (from requests<3,>=2.27->gTTS->-r getting_started_with_ai/colab/requirements.txt (line 2)) (3.10)\n",
            "Requirement already satisfied: urllib3<3,>=1.21.1 in /usr/local/lib/python3.11/dist-packages (from requests<3,>=2.27->gTTS->-r getting_started_with_ai/colab/requirements.txt (line 2)) (2.3.0)\n",
            "Requirement already satisfied: certifi>=2017.4.17 in /usr/local/lib/python3.11/dist-packages (from requests<3,>=2.27->gTTS->-r getting_started_with_ai/colab/requirements.txt (line 2)) (2025.1.31)\n",
            "Requirement already satisfied: threadpoolctl>=3.1.0 in /usr/local/lib/python3.11/dist-packages (from scikit-learn>=1.3.0->TTS->-r getting_started_with_ai/colab/requirements.txt (line 1)) (3.5.0)\n",
            "Requirement already satisfied: cffi>=1.0 in /usr/local/lib/python3.11/dist-packages (from soundfile>=0.12.0->TTS->-r getting_started_with_ai/colab/requirements.txt (line 1)) (1.17.1)\n",
            "Requirement already satisfied: spacy-legacy<3.1.0,>=3.0.11 in /usr/local/lib/python3.11/dist-packages (from spacy>=3->spacy[ja]>=3->TTS->-r getting_started_with_ai/colab/requirements.txt (line 1)) (3.0.12)\n",
            "Requirement already satisfied: spacy-loggers<2.0.0,>=1.0.0 in /usr/local/lib/python3.11/dist-packages (from spacy>=3->spacy[ja]>=3->TTS->-r getting_started_with_ai/colab/requirements.txt (line 1)) (1.0.5)\n",
            "Requirement already satisfied: murmurhash<1.1.0,>=0.28.0 in /usr/local/lib/python3.11/dist-packages (from spacy>=3->spacy[ja]>=3->TTS->-r getting_started_with_ai/colab/requirements.txt (line 1)) (1.0.12)\n",
            "Requirement already satisfied: cymem<2.1.0,>=2.0.2 in /usr/local/lib/python3.11/dist-packages (from spacy>=3->spacy[ja]>=3->TTS->-r getting_started_with_ai/colab/requirements.txt (line 1)) (2.0.11)\n",
            "Requirement already satisfied: preshed<3.1.0,>=3.0.2 in /usr/local/lib/python3.11/dist-packages (from spacy>=3->spacy[ja]>=3->TTS->-r getting_started_with_ai/colab/requirements.txt (line 1)) (3.0.9)\n",
            "Requirement already satisfied: thinc<8.3.0,>=8.2.2 in /usr/local/lib/python3.11/dist-packages (from spacy>=3->spacy[ja]>=3->TTS->-r getting_started_with_ai/colab/requirements.txt (line 1)) (8.2.5)\n",
            "Requirement already satisfied: wasabi<1.2.0,>=0.9.1 in /usr/local/lib/python3.11/dist-packages (from spacy>=3->spacy[ja]>=3->TTS->-r getting_started_with_ai/colab/requirements.txt (line 1)) (1.1.3)\n",
            "Requirement already satisfied: srsly<3.0.0,>=2.4.3 in /usr/local/lib/python3.11/dist-packages (from spacy>=3->spacy[ja]>=3->TTS->-r getting_started_with_ai/colab/requirements.txt (line 1)) (2.5.1)\n",
            "Requirement already satisfied: catalogue<2.1.0,>=2.0.6 in /usr/local/lib/python3.11/dist-packages (from spacy>=3->spacy[ja]>=3->TTS->-r getting_started_with_ai/colab/requirements.txt (line 1)) (2.0.10)\n",
            "Requirement already satisfied: weasel<0.5.0,>=0.1.0 in /usr/local/lib/python3.11/dist-packages (from spacy>=3->spacy[ja]>=3->TTS->-r getting_started_with_ai/colab/requirements.txt (line 1)) (0.4.1)\n",
            "Requirement already satisfied: typer<1.0.0,>=0.3.0 in /usr/local/lib/python3.11/dist-packages (from spacy>=3->spacy[ja]>=3->TTS->-r getting_started_with_ai/colab/requirements.txt (line 1)) (0.15.2)\n",
            "Requirement already satisfied: pydantic!=1.8,!=1.8.1,<3.0.0,>=1.7.4 in /usr/local/lib/python3.11/dist-packages (from spacy>=3->spacy[ja]>=3->TTS->-r getting_started_with_ai/colab/requirements.txt (line 1)) (2.10.6)\n",
            "Requirement already satisfied: setuptools in /usr/local/lib/python3.11/dist-packages (from spacy>=3->spacy[ja]>=3->TTS->-r getting_started_with_ai/colab/requirements.txt (line 1)) (75.1.0)\n",
            "Requirement already satisfied: langcodes<4.0.0,>=3.2.0 in /usr/local/lib/python3.11/dist-packages (from spacy>=3->spacy[ja]>=3->TTS->-r getting_started_with_ai/colab/requirements.txt (line 1)) (3.5.0)\n",
            "Requirement already satisfied: sudachipy!=0.6.1,>=0.5.2 in /usr/local/lib/python3.11/dist-packages (from spacy[ja]>=3->TTS->-r getting_started_with_ai/colab/requirements.txt (line 1)) (0.6.10)\n",
            "Requirement already satisfied: sudachidict-core>=20211220 in /usr/local/lib/python3.11/dist-packages (from spacy[ja]>=3->TTS->-r getting_started_with_ai/colab/requirements.txt (line 1)) (20250129)\n",
            "Requirement already satisfied: filelock in /usr/local/lib/python3.11/dist-packages (from torch>=2.1->TTS->-r getting_started_with_ai/colab/requirements.txt (line 1)) (3.17.0)\n",
            "Requirement already satisfied: nvidia-cuda-nvrtc-cu12==12.4.127 in /usr/local/lib/python3.11/dist-packages (from torch>=2.1->TTS->-r getting_started_with_ai/colab/requirements.txt (line 1)) (12.4.127)\n",
            "Requirement already satisfied: nvidia-cuda-runtime-cu12==12.4.127 in /usr/local/lib/python3.11/dist-packages (from torch>=2.1->TTS->-r getting_started_with_ai/colab/requirements.txt (line 1)) (12.4.127)\n",
            "Requirement already satisfied: nvidia-cuda-cupti-cu12==12.4.127 in /usr/local/lib/python3.11/dist-packages (from torch>=2.1->TTS->-r getting_started_with_ai/colab/requirements.txt (line 1)) (12.4.127)\n",
            "Requirement already satisfied: nvidia-cudnn-cu12==9.1.0.70 in /usr/local/lib/python3.11/dist-packages (from torch>=2.1->TTS->-r getting_started_with_ai/colab/requirements.txt (line 1)) (9.1.0.70)\n",
            "Requirement already satisfied: nvidia-cublas-cu12==12.4.5.8 in /usr/local/lib/python3.11/dist-packages (from torch>=2.1->TTS->-r getting_started_with_ai/colab/requirements.txt (line 1)) (12.4.5.8)\n",
            "Requirement already satisfied: nvidia-cufft-cu12==11.2.1.3 in /usr/local/lib/python3.11/dist-packages (from torch>=2.1->TTS->-r getting_started_with_ai/colab/requirements.txt (line 1)) (11.2.1.3)\n",
            "Requirement already satisfied: nvidia-curand-cu12==10.3.5.147 in /usr/local/lib/python3.11/dist-packages (from torch>=2.1->TTS->-r getting_started_with_ai/colab/requirements.txt (line 1)) (10.3.5.147)\n",
            "Requirement already satisfied: nvidia-cusolver-cu12==11.6.1.9 in /usr/local/lib/python3.11/dist-packages (from torch>=2.1->TTS->-r getting_started_with_ai/colab/requirements.txt (line 1)) (11.6.1.9)\n",
            "Requirement already satisfied: nvidia-cusparse-cu12==12.3.1.170 in /usr/local/lib/python3.11/dist-packages (from torch>=2.1->TTS->-r getting_started_with_ai/colab/requirements.txt (line 1)) (12.3.1.170)\n",
            "Requirement already satisfied: nvidia-nccl-cu12==2.21.5 in /usr/local/lib/python3.11/dist-packages (from torch>=2.1->TTS->-r getting_started_with_ai/colab/requirements.txt (line 1)) (2.21.5)\n",
            "Requirement already satisfied: nvidia-nvtx-cu12==12.4.127 in /usr/local/lib/python3.11/dist-packages (from torch>=2.1->TTS->-r getting_started_with_ai/colab/requirements.txt (line 1)) (12.4.127)\n",
            "Requirement already satisfied: nvidia-nvjitlink-cu12==12.4.127 in /usr/local/lib/python3.11/dist-packages (from torch>=2.1->TTS->-r getting_started_with_ai/colab/requirements.txt (line 1)) (12.4.127)\n",
            "Requirement already satisfied: triton==3.1.0 in /usr/local/lib/python3.11/dist-packages (from torch>=2.1->TTS->-r getting_started_with_ai/colab/requirements.txt (line 1)) (3.1.0)\n",
            "Requirement already satisfied: sympy==1.13.1 in /usr/local/lib/python3.11/dist-packages (from torch>=2.1->TTS->-r getting_started_with_ai/colab/requirements.txt (line 1)) (1.13.1)\n",
            "Requirement already satisfied: mpmath<1.4,>=1.1.0 in /usr/local/lib/python3.11/dist-packages (from sympy==1.13.1->torch>=2.1->TTS->-r getting_started_with_ai/colab/requirements.txt (line 1)) (1.3.0)\n",
            "Requirement already satisfied: psutil in /usr/local/lib/python3.11/dist-packages (from trainer>=0.0.32->TTS->-r getting_started_with_ai/colab/requirements.txt (line 1)) (5.9.5)\n",
            "Requirement already satisfied: tensorboard in /usr/local/lib/python3.11/dist-packages (from trainer>=0.0.32->TTS->-r getting_started_with_ai/colab/requirements.txt (line 1)) (2.18.0)\n",
            "Requirement already satisfied: huggingface-hub<1.0,>=0.24.0 in /usr/local/lib/python3.11/dist-packages (from transformers>=4.33.0->TTS->-r getting_started_with_ai/colab/requirements.txt (line 1)) (0.28.1)\n",
            "Requirement already satisfied: regex!=2019.12.17 in /usr/local/lib/python3.11/dist-packages (from transformers>=4.33.0->TTS->-r getting_started_with_ai/colab/requirements.txt (line 1)) (2024.11.6)\n",
            "Requirement already satisfied: tokenizers<0.22,>=0.21 in /usr/local/lib/python3.11/dist-packages (from transformers>=4.33.0->TTS->-r getting_started_with_ai/colab/requirements.txt (line 1)) (0.21.0)\n",
            "Requirement already satisfied: safetensors>=0.4.1 in /usr/local/lib/python3.11/dist-packages (from transformers>=4.33.0->TTS->-r getting_started_with_ai/colab/requirements.txt (line 1)) (0.5.3)\n",
            "Requirement already satisfied: pynndescent>=0.5 in /usr/local/lib/python3.11/dist-packages (from umap-learn>=0.5.1->TTS->-r getting_started_with_ai/colab/requirements.txt (line 1)) (0.5.13)\n",
            "Requirement already satisfied: pycparser in /usr/local/lib/python3.11/dist-packages (from cffi>=1.0->soundfile>=0.12.0->TTS->-r getting_started_with_ai/colab/requirements.txt (line 1)) (2.22)\n",
            "Requirement already satisfied: tzlocal in /usr/local/lib/python3.11/dist-packages (from dateparser~=1.1.0->gruut==2.2.3->gruut[de,es,fr]==2.2.3->TTS->-r getting_started_with_ai/colab/requirements.txt (line 1)) (5.3.1)\n",
            "Requirement already satisfied: MarkupSafe>=2.0 in /usr/local/lib/python3.11/dist-packages (from Jinja2>=3.1.2->flask>=2.0.1->TTS->-r getting_started_with_ai/colab/requirements.txt (line 1)) (3.0.2)\n",
            "Requirement already satisfied: six in /usr/local/lib/python3.11/dist-packages (from jsonlines~=1.2.0->gruut==2.2.3->gruut[de,es,fr]==2.2.3->TTS->-r getting_started_with_ai/colab/requirements.txt (line 1)) (1.17.0)\n",
            "Requirement already satisfied: language-data>=1.2 in /usr/local/lib/python3.11/dist-packages (from langcodes<4.0.0,>=3.2.0->spacy>=3->spacy[ja]>=3->TTS->-r getting_started_with_ai/colab/requirements.txt (line 1)) (1.3.0)\n",
            "Requirement already satisfied: platformdirs>=2.5.0 in /usr/local/lib/python3.11/dist-packages (from pooch>=1.1->librosa>=0.10.0->TTS->-r getting_started_with_ai/colab/requirements.txt (line 1)) (4.3.6)\n",
            "Requirement already satisfied: annotated-types>=0.6.0 in /usr/local/lib/python3.11/dist-packages (from pydantic!=1.8,!=1.8.1,<3.0.0,>=1.7.4->spacy>=3->spacy[ja]>=3->TTS->-r getting_started_with_ai/colab/requirements.txt (line 1)) (0.7.0)\n",
            "Requirement already satisfied: pydantic-core==2.27.2 in /usr/local/lib/python3.11/dist-packages (from pydantic!=1.8,!=1.8.1,<3.0.0,>=1.7.4->spacy>=3->spacy[ja]>=3->TTS->-r getting_started_with_ai/colab/requirements.txt (line 1)) (2.27.2)\n",
            "Requirement already satisfied: blis<0.8.0,>=0.7.8 in /usr/local/lib/python3.11/dist-packages (from thinc<8.3.0,>=8.2.2->spacy>=3->spacy[ja]>=3->TTS->-r getting_started_with_ai/colab/requirements.txt (line 1)) (0.7.11)\n",
            "Requirement already satisfied: confection<1.0.0,>=0.0.1 in /usr/local/lib/python3.11/dist-packages (from thinc<8.3.0,>=8.2.2->spacy>=3->spacy[ja]>=3->TTS->-r getting_started_with_ai/colab/requirements.txt (line 1)) (0.1.5)\n",
            "Requirement already satisfied: shellingham>=1.3.0 in /usr/local/lib/python3.11/dist-packages (from typer<1.0.0,>=0.3.0->spacy>=3->spacy[ja]>=3->TTS->-r getting_started_with_ai/colab/requirements.txt (line 1)) (1.5.4)\n",
            "Requirement already satisfied: rich>=10.11.0 in /usr/local/lib/python3.11/dist-packages (from typer<1.0.0,>=0.3.0->spacy>=3->spacy[ja]>=3->TTS->-r getting_started_with_ai/colab/requirements.txt (line 1)) (13.9.4)\n",
            "Requirement already satisfied: cloudpathlib<1.0.0,>=0.7.0 in /usr/local/lib/python3.11/dist-packages (from weasel<0.5.0,>=0.1.0->spacy>=3->spacy[ja]>=3->TTS->-r getting_started_with_ai/colab/requirements.txt (line 1)) (0.21.0)\n",
            "Requirement already satisfied: smart-open<8.0.0,>=5.2.1 in /usr/local/lib/python3.11/dist-packages (from weasel<0.5.0,>=0.1.0->spacy>=3->spacy[ja]>=3->TTS->-r getting_started_with_ai/colab/requirements.txt (line 1)) (7.1.0)\n",
            "Requirement already satisfied: absl-py>=0.4 in /usr/local/lib/python3.11/dist-packages (from tensorboard->trainer>=0.0.32->TTS->-r getting_started_with_ai/colab/requirements.txt (line 1)) (1.4.0)\n",
            "Requirement already satisfied: grpcio>=1.48.2 in /usr/local/lib/python3.11/dist-packages (from tensorboard->trainer>=0.0.32->TTS->-r getting_started_with_ai/colab/requirements.txt (line 1)) (1.70.0)\n",
            "Requirement already satisfied: markdown>=2.6.8 in /usr/local/lib/python3.11/dist-packages (from tensorboard->trainer>=0.0.32->TTS->-r getting_started_with_ai/colab/requirements.txt (line 1)) (3.7)\n",
            "Requirement already satisfied: protobuf!=4.24.0,>=3.19.6 in /usr/local/lib/python3.11/dist-packages (from tensorboard->trainer>=0.0.32->TTS->-r getting_started_with_ai/colab/requirements.txt (line 1)) (4.25.6)\n",
            "Requirement already satisfied: tensorboard-data-server<0.8.0,>=0.7.0 in /usr/local/lib/python3.11/dist-packages (from tensorboard->trainer>=0.0.32->TTS->-r getting_started_with_ai/colab/requirements.txt (line 1)) (0.7.2)\n",
            "Requirement already satisfied: marisa-trie>=1.1.0 in /usr/local/lib/python3.11/dist-packages (from language-data>=1.2->langcodes<4.0.0,>=3.2.0->spacy>=3->spacy[ja]>=3->TTS->-r getting_started_with_ai/colab/requirements.txt (line 1)) (1.2.1)\n",
            "Requirement already satisfied: markdown-it-py>=2.2.0 in /usr/local/lib/python3.11/dist-packages (from rich>=10.11.0->typer<1.0.0,>=0.3.0->spacy>=3->spacy[ja]>=3->TTS->-r getting_started_with_ai/colab/requirements.txt (line 1)) (3.0.0)\n",
            "Requirement already satisfied: pygments<3.0.0,>=2.13.0 in /usr/local/lib/python3.11/dist-packages (from rich>=10.11.0->typer<1.0.0,>=0.3.0->spacy>=3->spacy[ja]>=3->TTS->-r getting_started_with_ai/colab/requirements.txt (line 1)) (2.18.0)\n",
            "Requirement already satisfied: wrapt in /usr/local/lib/python3.11/dist-packages (from smart-open<8.0.0,>=5.2.1->weasel<0.5.0,>=0.1.0->spacy>=3->spacy[ja]>=3->TTS->-r getting_started_with_ai/colab/requirements.txt (line 1)) (1.17.2)\n",
            "Requirement already satisfied: mdurl~=0.1 in /usr/local/lib/python3.11/dist-packages (from markdown-it-py>=2.2.0->rich>=10.11.0->typer<1.0.0,>=0.3.0->spacy>=3->spacy[ja]>=3->TTS->-r getting_started_with_ai/colab/requirements.txt (line 1)) (0.1.2)\n",
            "Downloading gTTS-2.5.4-py3-none-any.whl (29 kB)\n",
            "Installing collected packages: gTTS\n",
            "Successfully installed gTTS-2.5.4\n"
          ]
        }
      ]
    },
    {
      "cell_type": "markdown",
      "source": [
        "And finally, run main.py"
      ],
      "metadata": {
        "id": "eKVAlpdkRVHf"
      }
    },
    {
      "cell_type": "code",
      "source": [
        "run getting_started_with_ai/colab/main.py"
      ],
      "metadata": {
        "colab": {
          "base_uri": "https://localhost:8080/",
          "height": 62
        },
        "id": "am6p4QYyO6e8",
        "outputId": "83d6c10e-57c5-4f2c-b289-c33a052d18a9"
      },
      "execution_count": 13,
      "outputs": [
        {
          "output_type": "display_data",
          "data": {
            "text/plain": [
              "<IPython.lib.display.Audio object>"
            ],
            "text/html": [
              "\n",
              "                <audio  controls=\"controls\" autoplay=\"autoplay\">\n",
              "                    <source src=\"data:audio/mpeg;base64,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\" type=\"audio/mpeg\" />\n",
              "                    Your browser does not support the audio element.\n",
              "                </audio>\n",
              "              "
            ]
          },
          "metadata": {}
        }
      ]
    },
    {
      "cell_type": "code",
      "source": [
        "cat /content/getting_started_with_ai/colab/main.py"
      ],
      "metadata": {
        "id": "e65AHnjtSQOr",
        "outputId": "450ba68e-60a4-4a48-d9f4-4467f4c58a9a",
        "colab": {
          "base_uri": "https://localhost:8080/"
        }
      },
      "execution_count": 14,
      "outputs": [
        {
          "output_type": "stream",
          "name": "stdout",
          "text": [
            "#!/bin/python3\n",
            "\n",
            "from helloworld import hello\n",
            "from gtts import gTTS\n",
            "from IPython.display import Audio\n",
            "tts = gTTS('Hello, this is a test of text-to-speech.')\n",
            "tts.save('test.mp3')\n",
            "\n",
            "#hello()\n",
            "\n",
            "display(Audio('test.mp3', autoplay=True))"
          ]
        }
      ]
    }
  ]
}