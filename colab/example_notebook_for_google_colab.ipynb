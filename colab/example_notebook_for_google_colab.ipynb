{
  "nbformat": 4,
  "nbformat_minor": 0,
  "metadata": {
    "colab": {
      "provenance": [],
      "gpuType": "T4",
      "toc_visible": true,
      "include_colab_link": true
    },
    "kernelspec": {
      "name": "python3",
      "display_name": "Python 3"
    },
    "language_info": {
      "name": "python"
    },
    "accelerator": "GPU"
  },
  "cells": [
    {
      "cell_type": "markdown",
      "metadata": {
        "id": "view-in-github",
        "colab_type": "text"
      },
      "source": [
        "<a href=\"https://colab.research.google.com/github/cmanderskronquist/getting_started_with_ai/blob/main/colab/example_notebook_for_google_colab.ipynb\" target=\"_parent\"><img src=\"https://colab.research.google.com/assets/colab-badge.svg\" alt=\"Open In Colab\"/></a>"
      ]
    },
    {
      "cell_type": "markdown",
      "source": [
        "This is a test of pulling from github to Colab"
      ],
      "metadata": {
        "id": "ezTIGb97Mvv0"
      }
    },
    {
      "cell_type": "markdown",
      "source": [
        "Run this to clone the repo"
      ],
      "metadata": {
        "id": "BZ3afNEMRMuh"
      }
    },
    {
      "cell_type": "code",
      "source": [
        "![ ! -d \"getting_started_with_ai\" ] && git clone https://github.com/cmanderskronquist/getting_started_with_ai/"
      ],
      "metadata": {
        "colab": {
          "base_uri": "https://localhost:8080/"
        },
        "id": "jKErq4ReMv9d",
        "outputId": "4880c93f-f971-49a9-b44b-56168081ac53"
      },
      "execution_count": 1,
      "outputs": [
        {
          "output_type": "stream",
          "name": "stdout",
          "text": [
            "Cloning into 'getting_started_with_ai'...\n",
            "remote: Enumerating objects: 137, done.\u001b[K\n",
            "remote: Counting objects: 100% (137/137), done.\u001b[K\n",
            "remote: Compressing objects: 100% (95/95), done.\u001b[K\n",
            "remote: Total 137 (delta 55), reused 99 (delta 36), pack-reused 0 (from 0)\u001b[K\n",
            "Receiving objects: 100% (137/137), 174.67 KiB | 5.63 MiB/s, done.\n",
            "Resolving deltas: 100% (55/55), done.\n"
          ]
        }
      ]
    },
    {
      "cell_type": "markdown",
      "source": [
        "Run this to refresh the clone."
      ],
      "metadata": {
        "id": "wegOOmATRLCE"
      }
    },
    {
      "cell_type": "code",
      "source": [
        "!cd getting_started_with_ai/ && git pull"
      ],
      "metadata": {
        "colab": {
          "base_uri": "https://localhost:8080/"
        },
        "id": "I7g9EOQaOiPn",
        "outputId": "3d4b0f69-a26b-4ce6-a95c-c575ff7def03"
      },
      "execution_count": 2,
      "outputs": [
        {
          "output_type": "stream",
          "name": "stdout",
          "text": [
            "Already up to date.\n"
          ]
        }
      ]
    },
    {
      "cell_type": "markdown",
      "source": [
        "And finally, run main.py"
      ],
      "metadata": {
        "id": "eKVAlpdkRVHf"
      }
    },
    {
      "cell_type": "code",
      "source": [
        "run getting_started_with_ai/colab/main.py"
      ],
      "metadata": {
        "colab": {
          "base_uri": "https://localhost:8080/"
        },
        "id": "am6p4QYyO6e8",
        "outputId": "abbf0929-c6e7-4639-f0e5-3bcb1bfdef57"
      },
      "execution_count": 3,
      "outputs": [
        {
          "output_type": "stream",
          "name": "stdout",
          "text": [
            "hello world!\n"
          ]
        }
      ]
    },
    {
      "cell_type": "code",
      "source": [
        "cat /content/getting_started_with_ai/colab/main.py"
      ],
      "metadata": {
        "id": "e65AHnjtSQOr",
        "outputId": "9077a4fc-a5cf-435e-a17a-a851f3832151",
        "colab": {
          "base_uri": "https://localhost:8080/"
        }
      },
      "execution_count": 4,
      "outputs": [
        {
          "output_type": "stream",
          "name": "stdout",
          "text": [
            "#!/bin/python3\n",
            "\n",
            "from helloworld import hello\n",
            "\n",
            "hello()\n"
          ]
        }
      ]
    }
  ]
}
