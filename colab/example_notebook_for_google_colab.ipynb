{
  "nbformat": 4,
  "nbformat_minor": 0,
  "metadata": {
    "colab": {
      "provenance": [],
      "gpuType": "T4",
      "include_colab_link": true
    },
    "kernelspec": {
      "name": "python3",
      "display_name": "Python 3"
    },
    "language_info": {
      "name": "python"
    },
    "accelerator": "GPU"
  },
  "cells": [
    {
      "cell_type": "markdown",
      "metadata": {
        "id": "view-in-github",
        "colab_type": "text"
      },
      "source": [
        "<a href=\"https://colab.research.google.com/github/cmanderskronquist/getting_started_with_ai/blob/main/colab/example_notebook_for_google_colab.ipynb\" target=\"_parent\"><img src=\"https://colab.research.google.com/assets/colab-badge.svg\" alt=\"Open In Colab\"/></a>"
      ]
    },
    {
      "cell_type": "markdown",
      "source": [
        "This is a test of pulling from github to Colab"
      ],
      "metadata": {
        "id": "ezTIGb97Mvv0"
      }
    },
    {
      "cell_type": "markdown",
      "source": [
        "Run this to clone the repo"
      ],
      "metadata": {
        "id": "BZ3afNEMRMuh"
      }
    },
    {
      "cell_type": "code",
      "source": [
        "! [ ! -d \"getting_started_with_ai\" ] && git clone https://github.com/cmanderskronquist/getting_started_with_ai/"
      ],
      "metadata": {
        "id": "jKErq4ReMv9d"
      },
      "execution_count": 8,
      "outputs": []
    },
    {
      "cell_type": "markdown",
      "source": [
        "Run this to refresh the clone."
      ],
      "metadata": {
        "id": "wegOOmATRLCE"
      }
    },
    {
      "cell_type": "code",
      "source": [
        "!cd getting_started_with_ai/ && git pull"
      ],
      "metadata": {
        "colab": {
          "base_uri": "https://localhost:8080/"
        },
        "id": "I7g9EOQaOiPn",
        "outputId": "c9f520c3-d125-4e77-be35-f513b6d13c29"
      },
      "execution_count": 3,
      "outputs": [
        {
          "output_type": "stream",
          "name": "stdout",
          "text": [
            "Already up to date.\n"
          ]
        }
      ]
    },
    {
      "cell_type": "markdown",
      "source": [
        "And finally, run main.py"
      ],
      "metadata": {
        "id": "eKVAlpdkRVHf"
      }
    },
    {
      "cell_type": "code",
      "source": [
        "run getting_started_with_ai/colab/main.py"
      ],
      "metadata": {
        "colab": {
          "base_uri": "https://localhost:8080/"
        },
        "id": "am6p4QYyO6e8",
        "outputId": "bfba5868-aa48-4001-c0de-122c1fc66000"
      },
      "execution_count": 4,
      "outputs": [
        {
          "output_type": "stream",
          "name": "stdout",
          "text": [
            "hello world!\n"
          ]
        }
      ]
    }
  ]
}