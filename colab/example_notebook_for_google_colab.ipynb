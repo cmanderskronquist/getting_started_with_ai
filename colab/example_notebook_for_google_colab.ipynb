{
  "nbformat": 4,
  "nbformat_minor": 0,
  "metadata": {
    "colab": {
      "provenance": [],
      "gpuType": "T4",
      "toc_visible": true,
      "include_colab_link": true
    },
    "kernelspec": {
      "name": "python3",
      "display_name": "Python 3"
    },
    "language_info": {
      "name": "python"
    },
    "accelerator": "GPU"
  },
  "cells": [
    {
      "cell_type": "markdown",
      "metadata": {
        "id": "view-in-github",
        "colab_type": "text"
      },
      "source": [
        "<a href=\"https://colab.research.google.com/github/cmanderskronquist/getting_started_with_ai/blob/main/colab/example_notebook_for_google_colab.ipynb\" target=\"_parent\"><img src=\"https://colab.research.google.com/assets/colab-badge.svg\" alt=\"Open In Colab\"/></a>"
      ]
    },
    {
      "cell_type": "markdown",
      "source": [
        "This is a test of pulling from github to Colab\n",
        "\n",
        "WARNING\n",
        "Saving this from Colab to Github will overwrite the file no questions asked. No merge option."
      ],
      "metadata": {
        "id": "ezTIGb97Mvv0"
      }
    },
    {
      "cell_type": "markdown",
      "source": [
        "Run this to clone the repo"
      ],
      "metadata": {
        "id": "BZ3afNEMRMuh"
      }
    },
    {
      "cell_type": "code",
      "source": [
        "![ ! -d \"getting_started_with_ai\" ] && git clone https://github.com/cmanderskronquist/getting_started_with_ai/"
      ],
      "metadata": {
        "id": "jKErq4ReMv9d"
      },
      "execution_count": 5,
      "outputs": []
    },
    {
      "cell_type": "markdown",
      "source": [
        "Run this to refresh the clone."
      ],
      "metadata": {
        "id": "wegOOmATRLCE"
      }
    },
    {
      "cell_type": "code",
      "source": [
        "!cd getting_started_with_ai/ && git pull"
      ],
      "metadata": {
        "colab": {
          "base_uri": "https://localhost:8080/"
        },
        "id": "I7g9EOQaOiPn",
        "outputId": "b8c41470-8704-40e0-dd9d-66d2e4e40f81"
      },
      "execution_count": 6,
      "outputs": [
        {
          "output_type": "stream",
          "name": "stdout",
          "text": [
            "remote: Enumerating objects: 23, done.\u001b[K\n",
            "remote: Counting objects:   4% (1/23)\u001b[K\rremote: Counting objects:   8% (2/23)\u001b[K\rremote: Counting objects:  13% (3/23)\u001b[K\rremote: Counting objects:  17% (4/23)\u001b[K\rremote: Counting objects:  21% (5/23)\u001b[K\rremote: Counting objects:  26% (6/23)\u001b[K\rremote: Counting objects:  30% (7/23)\u001b[K\rremote: Counting objects:  34% (8/23)\u001b[K\rremote: Counting objects:  39% (9/23)\u001b[K\rremote: Counting objects:  43% (10/23)\u001b[K\rremote: Counting objects:  47% (11/23)\u001b[K\rremote: Counting objects:  52% (12/23)\u001b[K\rremote: Counting objects:  56% (13/23)\u001b[K\rremote: Counting objects:  60% (14/23)\u001b[K\rremote: Counting objects:  65% (15/23)\u001b[K\rremote: Counting objects:  69% (16/23)\u001b[K\rremote: Counting objects:  73% (17/23)\u001b[K\rremote: Counting objects:  78% (18/23)\u001b[K\rremote: Counting objects:  82% (19/23)\u001b[K\rremote: Counting objects:  86% (20/23)\u001b[K\rremote: Counting objects:  91% (21/23)\u001b[K\rremote: Counting objects:  95% (22/23)\u001b[K\rremote: Counting objects: 100% (23/23)\u001b[K\rremote: Counting objects: 100% (23/23), done.\u001b[K\n",
            "remote: Compressing objects:   5% (1/20)\u001b[K\rremote: Compressing objects:  10% (2/20)\u001b[K\rremote: Compressing objects:  15% (3/20)\u001b[K\rremote: Compressing objects:  20% (4/20)\u001b[K\rremote: Compressing objects:  25% (5/20)\u001b[K\rremote: Compressing objects:  30% (6/20)\u001b[K\rremote: Compressing objects:  35% (7/20)\u001b[K\rremote: Compressing objects:  40% (8/20)\u001b[K\rremote: Compressing objects:  45% (9/20)\u001b[K\rremote: Compressing objects:  50% (10/20)\u001b[K\rremote: Compressing objects:  55% (11/20)\u001b[K\rremote: Compressing objects:  60% (12/20)\u001b[K\rremote: Compressing objects:  65% (13/20)\u001b[K\rremote: Compressing objects:  70% (14/20)\u001b[K\rremote: Compressing objects:  75% (15/20)\u001b[K\rremote: Compressing objects:  80% (16/20)\u001b[K\rremote: Compressing objects:  85% (17/20)\u001b[K\rremote: Compressing objects:  90% (18/20)\u001b[K\rremote: Compressing objects:  95% (19/20)\u001b[K\rremote: Compressing objects: 100% (20/20)\u001b[K\rremote: Compressing objects: 100% (20/20), done.\u001b[K\n",
            "remote: Total 20 (delta 10), reused 0 (delta 0), pack-reused 0 (from 0)\u001b[K\n",
            "Unpacking objects:   5% (1/20)\rUnpacking objects:  10% (2/20)\rUnpacking objects:  15% (3/20)\rUnpacking objects:  20% (4/20)\rUnpacking objects:  25% (5/20)\rUnpacking objects:  30% (6/20)\rUnpacking objects:  35% (7/20)\rUnpacking objects:  40% (8/20)\rUnpacking objects:  45% (9/20)\rUnpacking objects:  50% (10/20)\rUnpacking objects:  55% (11/20)\rUnpacking objects:  60% (12/20)\rUnpacking objects:  65% (13/20)\rUnpacking objects:  70% (14/20)\rUnpacking objects:  75% (15/20)\rUnpacking objects:  80% (16/20)\rUnpacking objects:  85% (17/20)\rUnpacking objects:  90% (18/20)\rUnpacking objects:  95% (19/20)\rUnpacking objects: 100% (20/20)\rUnpacking objects: 100% (20/20), 4.11 KiB | 842.00 KiB/s, done.\n",
            "From https://github.com/cmanderskronquist/getting_started_with_ai\n",
            "   c429ba5..0891ff1  main       -> origin/main\n",
            "Updating c429ba5..0891ff1\n",
            "Fast-forward\n",
            " colab/example_notebook_for_google_colab.ipynb | 88 \u001b[32m++++++++++++++++++++++++++++++++++\u001b[m\u001b[31m-------------\u001b[m\n",
            " 1 file changed, 64 insertions(+), 24 deletions(-)\n"
          ]
        }
      ]
    },
    {
      "cell_type": "markdown",
      "source": [
        "And finally, run main.py"
      ],
      "metadata": {
        "id": "eKVAlpdkRVHf"
      }
    },
    {
      "cell_type": "code",
      "source": [
        "run getting_started_with_ai/colab/main.py"
      ],
      "metadata": {
        "colab": {
          "base_uri": "https://localhost:8080/"
        },
        "id": "am6p4QYyO6e8",
        "outputId": "649b6d18-443d-4a3b-efc1-61abceec8ac6"
      },
      "execution_count": 7,
      "outputs": [
        {
          "output_type": "stream",
          "name": "stdout",
          "text": [
            "hello world!\n"
          ]
        }
      ]
    },
    {
      "cell_type": "code",
      "source": [
        "cat /content/getting_started_with_ai/colab/main.py"
      ],
      "metadata": {
        "id": "e65AHnjtSQOr",
        "outputId": "c30d83d8-0b99-446a-e2e6-8898333ac465",
        "colab": {
          "base_uri": "https://localhost:8080/"
        }
      },
      "execution_count": 8,
      "outputs": [
        {
          "output_type": "stream",
          "name": "stdout",
          "text": [
            "#!/bin/python3\n",
            "\n",
            "from helloworld import hello\n",
            "\n",
            "hello()\n"
          ]
        }
      ]
    }
  ]
}