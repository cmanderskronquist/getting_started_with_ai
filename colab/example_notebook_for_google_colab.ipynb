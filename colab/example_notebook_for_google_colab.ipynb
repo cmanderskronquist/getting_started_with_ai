{
  "nbformat": 4,
  "nbformat_minor": 0,
  "metadata": {
    "colab": {
      "provenance": [],
      "gpuType": "T4",
      "toc_visible": true,
      "include_colab_link": true
    },
    "kernelspec": {
      "name": "python3",
      "display_name": "Python 3"
    },
    "language_info": {
      "name": "python"
    },
    "accelerator": "GPU"
  },
  "cells": [
    {
      "cell_type": "markdown",
      "metadata": {
        "id": "view-in-github",
        "colab_type": "text"
      },
      "source": [
        "<a href=\"https://colab.research.google.com/github/cmanderskronquist/getting_started_with_ai/blob/main/colab/example_notebook_for_google_colab.ipynb\" target=\"_parent\"><img src=\"https://colab.research.google.com/assets/colab-badge.svg\" alt=\"Open In Colab\"/></a>"
      ]
    },
    {
      "cell_type": "markdown",
      "source": [
        "Snarf from Git to This Colab"
      ],
      "metadata": {
        "id": "ezTIGb97Mvv0"
      }
    },
    {
      "cell_type": "code",
      "source": [
        "!git clone https://github.com/cmanderskronquist/getting_started_with_ai/"
      ],
      "metadata": {
        "colab": {
          "base_uri": "https://localhost:8080/"
        },
        "id": "jKErq4ReMv9d",
        "outputId": "e34b2a7c-c104-43bd-a333-e3a7df050846"
      },
      "execution_count": 10,
      "outputs": [
        {
          "output_type": "stream",
          "name": "stdout",
          "text": [
            "fatal: destination path 'getting_started_with_ai' already exists and is not an empty directory.\n"
          ]
        }
      ]
    },
    {
      "cell_type": "code",
      "source": [
        "!cd getting_started_with_ai/ && git pull"
      ],
      "metadata": {
        "colab": {
          "base_uri": "https://localhost:8080/"
        },
        "id": "I7g9EOQaOiPn",
        "outputId": "7f805b09-9714-4367-e885-fc6a57e79cc3"
      },
      "execution_count": 14,
      "outputs": [
        {
          "output_type": "stream",
          "name": "stdout",
          "text": [
            "remote: Enumerating objects: 6, done.\u001b[K\n",
            "remote: Counting objects:  16% (1/6)\u001b[K\rremote: Counting objects:  33% (2/6)\u001b[K\rremote: Counting objects:  50% (3/6)\u001b[K\rremote: Counting objects:  66% (4/6)\u001b[K\rremote: Counting objects:  83% (5/6)\u001b[K\rremote: Counting objects: 100% (6/6)\u001b[K\rremote: Counting objects: 100% (6/6), done.\u001b[K\n",
            "remote: Compressing objects:  25% (1/4)\u001b[K\rremote: Compressing objects:  50% (2/4)\u001b[K\rremote: Compressing objects:  75% (3/4)\u001b[K\rremote: Compressing objects: 100% (4/4)\u001b[K\rremote: Compressing objects: 100% (4/4), done.\u001b[K\n",
            "remote: Total 4 (delta 1), reused 0 (delta 0), pack-reused 0 (from 0)\u001b[K\n",
            "Unpacking objects:  25% (1/4)\rUnpacking objects:  50% (2/4)\rUnpacking objects:  75% (3/4)\rUnpacking objects: 100% (4/4)\rUnpacking objects: 100% (4/4), 1.05 KiB | 1.05 MiB/s, done.\n",
            "From https://github.com/cmanderskronquist/getting_started_with_ai\n",
            "   9e223b3..86ae0ea  main       -> origin/main\n",
            "Updating 9e223b3..86ae0ea\n",
            "Fast-forward\n",
            " colab/main.py | 5 \u001b[32m+++++\u001b[m\n",
            " 1 file changed, 5 insertions(+)\n",
            " create mode 100644 colab/main.py\n"
          ]
        }
      ]
    },
    {
      "cell_type": "code",
      "source": [
        "run getting_started_with_ai/colab/main.py"
      ],
      "metadata": {
        "colab": {
          "base_uri": "https://localhost:8080/"
        },
        "id": "am6p4QYyO6e8",
        "outputId": "3461bcd8-6049-41f2-ae52-5a43156aaebb"
      },
      "execution_count": 16,
      "outputs": [
        {
          "output_type": "stream",
          "name": "stdout",
          "text": [
            "hello world!\n"
          ]
        }
      ]
    }
  ]
}